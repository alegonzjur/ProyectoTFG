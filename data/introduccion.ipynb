{
 "cells": [
  {
   "cell_type": "markdown",
   "metadata": {},
   "source": [
    "### Python se conoce por ser un lenguaje de programación muy flexible con capacidad para todo. \n",
    "\n",
    "### Esto se debe en gran parte por sus librerías basadas en el lenguaje que facilitan ciertas funciones del lenguaje."
   ]
  },
  {
   "cell_type": "markdown",
   "metadata": {},
   "source": [
    "### En este proyecto utilizaré las siguientes librerías:"
   ]
  },
  {
   "cell_type": "markdown",
   "metadata": {},
   "source": [
    "- Numpy.\n",
    "- Pandas.\n",
    "- Matplotlib.\n",
    "- Seaborn."
   ]
  },
  {
   "cell_type": "markdown",
   "metadata": {},
   "source": [
    "### 1) Numpy. \n"
   ]
  },
  {
   "cell_type": "markdown",
   "metadata": {},
   "source": [
    "! [Imagen](https://aprendeconalf.es/docencia/python/manual/img/numpy-logo.png)"
   ]
  },
  {
   "cell_type": "markdown",
   "metadata": {},
   "source": [
    "#### Se trata de una librería que proporciona soporte para crear vectores y matrices multidimensionales, además de una gran colección de funciones matemáticas de alto nivel para su operación."
   ]
  }
 ],
 "metadata": {
  "kernelspec": {
   "display_name": "Python 3",
   "language": "python",
   "name": "python3"
  },
  "language_info": {
   "codemirror_mode": {
    "name": "ipython",
    "version": 3
   },
   "file_extension": ".py",
   "mimetype": "text/x-python",
   "name": "python",
   "nbconvert_exporter": "python",
   "pygments_lexer": "ipython3",
   "version": "3.11.3"
  }
 },
 "nbformat": 4,
 "nbformat_minor": 2
}
